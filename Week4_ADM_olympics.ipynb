{
  "nbformat": 4,
  "nbformat_minor": 0,
  "metadata": {
    "colab": {
      "name": "Week4_ADM_olympics.ipynb",
      "provenance": [],
      "collapsed_sections": []
    },
    "kernelspec": {
      "name": "python3",
      "display_name": "Python 3"
    },
    "language_info": {
      "name": "python"
    }
  },
  "cells": [
    {
      "cell_type": "code",
      "execution_count": 5,
      "metadata": {
        "id": "q-0tb_xYAhBI"
      },
      "outputs": [],
      "source": [
        "import pandas as pd\n",
        "import numpy as np\n",
        "import matplotlib.pyplot as plt\n",
        "import seaborn as sns"
      ]
    },
    {
      "cell_type": "code",
      "source": [
        "df_o = pd.read_csv('olympics.csv')\n",
        "print(df_o)"
      ],
      "metadata": {
        "colab": {
          "base_uri": "https://localhost:8080/"
        },
        "id": "CnePEXVSBALM",
        "outputId": "133c30c4-0cbd-4f65-c70e-5b0416ad5db5"
      },
      "execution_count": 6,
      "outputs": [
        {
          "output_type": "stream",
          "name": "stdout",
          "text": [
            "          City  Edition      Sport       Discipline               Athlete  \\\n",
            "0       Athens     1896   Aquatics         Swimming         HAJOS, Alfred   \n",
            "1       Athens     1896   Aquatics         Swimming      HERSCHMANN, Otto   \n",
            "2       Athens     1896   Aquatics         Swimming     DRIVAS, Dimitrios   \n",
            "3       Athens     1896   Aquatics         Swimming    MALOKINIS, Ioannis   \n",
            "4       Athens     1896   Aquatics         Swimming    CHASAPIS, Spiridon   \n",
            "...        ...      ...        ...              ...                   ...   \n",
            "29211  Beijing     2008  Wrestling  Wrestling Gre-R        ENGLICH, Mirko   \n",
            "29212  Beijing     2008  Wrestling  Wrestling Gre-R  MIZGAITIS, Mindaugas   \n",
            "29213  Beijing     2008  Wrestling  Wrestling Gre-R       PATRIKEEV, Yuri   \n",
            "29214  Beijing     2008  Wrestling  Wrestling Gre-R         LOPEZ, Mijain   \n",
            "29215  Beijing     2008  Wrestling  Wrestling Gre-R        BAROEV, Khasan   \n",
            "\n",
            "       NOC Gender                       Event Event_gender   Medal  \n",
            "0      HUN    Men              100m freestyle            M    Gold  \n",
            "1      AUT    Men              100m freestyle            M  Silver  \n",
            "2      GRE    Men  100m freestyle for sailors            M  Bronze  \n",
            "3      GRE    Men  100m freestyle for sailors            M    Gold  \n",
            "4      GRE    Men  100m freestyle for sailors            M  Silver  \n",
            "...    ...    ...                         ...          ...     ...  \n",
            "29211  GER    Men                   84 - 96kg            M  Silver  \n",
            "29212  LTU    Men                  96 - 120kg            M  Bronze  \n",
            "29213  ARM    Men                  96 - 120kg            M  Bronze  \n",
            "29214  CUB    Men                  96 - 120kg            M    Gold  \n",
            "29215  RUS    Men                  96 - 120kg            M  Silver  \n",
            "\n",
            "[29216 rows x 10 columns]\n"
          ]
        }
      ]
    },
    {
      "cell_type": "code",
      "source": [
        "series_medals = df_o['Edition'].value_counts()\n",
        "series_medals.plot.bar(x='Year', y='Medal Count')"
      ],
      "metadata": {
        "colab": {
          "base_uri": "https://localhost:8080/",
          "height": 298
        },
        "id": "qBSs6sRaBSQz",
        "outputId": "4f56f631-aaa1-4eef-b0d1-5820c3af4ede"
      },
      "execution_count": 7,
      "outputs": [
        {
          "output_type": "execute_result",
          "data": {
            "text/plain": [
              "<matplotlib.axes._subplots.AxesSubplot at 0x7f4658d53510>"
            ]
          },
          "metadata": {},
          "execution_count": 7
        },
        {
          "output_type": "display_data",
          "data": {
            "text/plain": [
              "<Figure size 432x288 with 1 Axes>"
            ],
            "image/png": "[encoded data removed]"
          },
          "metadata": {
            "needs_background": "light"
          }
        }
      ]
    },
    {
      "cell_type": "code",
      "source": [
        "print(\"The year with the highest medal is 2008\")"
      ],
      "metadata": {
        "colab": {
          "base_uri": "https://localhost:8080/"
        },
        "id": "Sc2tbmquEGHT",
        "outputId": "396e6c94-9958-4b38-ffac-4a8ca4a00523"
      },
      "execution_count": 8,
      "outputs": [
        {
          "output_type": "stream",
          "name": "stdout",
          "text": [
            "The year with the highest medal is 2008\n"
          ]
        }
      ]
    }
  ]
}